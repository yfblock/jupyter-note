{
 "cells": [
  {
   "cell_type": "code",
   "execution_count": 3,
   "id": "c71236d5-0f3e-49af-952e-b61f9f861a56",
   "metadata": {},
   "outputs": [],
   "source": [
    "#include <iostream>\n",
    "using namespace std;"
   ]
  },
  {
   "cell_type": "markdown",
   "id": "1eb9a422-900e-42cc-8e1e-7040078a7423",
   "metadata": {},
   "source": [
    "## 代码介绍\n"
   ]
  },
  {
   "cell_type": "code",
   "execution_count": 7,
   "id": "5f209990-b838-4427-9f0a-5c8b161cbfd7",
   "metadata": {},
   "outputs": [
    {
     "name": "stdout",
     "output_type": "stream",
     "text": [
      "hello World!\n"
     ]
    }
   ],
   "source": [
    "cout << \"hello World!\" << endl;"
   ]
  },
  {
   "cell_type": "code",
   "execution_count": 10,
   "id": "458ca0f3-60cb-4118-a0fb-931f82a06ca9",
   "metadata": {},
   "outputs": [
    {
     "name": "stdout",
     "output_type": "stream",
     "text": [
      "2 3 4 5 "
     ]
    }
   ],
   "source": [
    "#include <algorithm>\n",
    "\n",
    "int v[] = {3, 2, 4, 5};\n",
    "sort(v, v + 4);\n",
    "\n",
    "for(int i = 0;i < 4;i++) {\n",
    "    cout << v[i] << \" \";\n",
    "}"
   ]
  },
  {
   "cell_type": "markdown",
   "id": "6387b911-4fc6-48cd-b96c-82571820a966",
   "metadata": {},
   "source": [
    "## sort 使用特定函数"
   ]
  },
  {
   "cell_type": "code",
   "execution_count": 13,
   "id": "50672a13-b290-4cbf-89f1-b8e6b2cf8fe1",
   "metadata": {},
   "outputs": [],
   "source": [
    "bool cmp(int a, int b) {\n",
    "    return a > b;\n",
    "}"
   ]
  },
  {
   "cell_type": "code",
   "execution_count": 14,
   "id": "0e6e614d-86f2-443e-8927-bf4d9411a0cc",
   "metadata": {},
   "outputs": [
    {
     "name": "stdout",
     "output_type": "stream",
     "text": [
      "5 4 3 2 "
     ]
    }
   ],
   "source": [
    "int v[] = {3, 2, 4, 5};\n",
    "\n",
    "sort(v, v + 4, cmp);\n",
    "\n",
    "for(int i = 0;i < 4;i++) {\n",
    "    cout << v[i] << \" \";\n",
    "}"
   ]
  },
  {
   "cell_type": "code",
   "execution_count": null,
   "id": "a7b8bd82-e42e-47ab-bc61-64c34f0c3709",
   "metadata": {},
   "outputs": [],
   "source": [
    "## 其他"
   ]
  }
 ],
 "metadata": {
  "kernelspec": {
   "display_name": "C++11",
   "language": "C++11",
   "name": "xcpp11"
  },
  "language_info": {
   "codemirror_mode": "text/x-c++src",
   "file_extension": ".cpp",
   "mimetype": "text/x-c++src",
   "name": "c++",
   "version": "11"
  }
 },
 "nbformat": 4,
 "nbformat_minor": 5
}
